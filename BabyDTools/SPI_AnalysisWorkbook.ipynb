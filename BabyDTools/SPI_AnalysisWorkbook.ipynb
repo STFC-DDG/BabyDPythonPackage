{
 "cells": [
  {
   "cell_type": "markdown",
   "metadata": {},
   "source": [
    "# Baby D Analysis Workbook\n",
    "(This is a template and a work in progress)"
   ]
  },
  {
   "cell_type": "code",
   "execution_count": 1,
   "metadata": {},
   "outputs": [],
   "source": [
    "import SPI_analysis as SPI # custom python package\n",
    "import ExamplePlots as plots # custom python package\n",
    "\n",
    "import numpy as np\n",
    "import matplotlib.pyplot as plt"
   ]
  },
  {
   "cell_type": "markdown",
   "metadata": {},
   "source": [
    "## Option 1: Load in a single datafile"
   ]
  },
  {
   "cell_type": "markdown",
   "metadata": {},
   "source": [
    "Provide filepath to data to be processed."
   ]
  },
  {
   "cell_type": "code",
   "execution_count": null,
   "metadata": {},
   "outputs": [],
   "source": [
    "FilePath = 'examplefilepath.npy'"
   ]
  },
  {
   "cell_type": "markdown",
   "metadata": {},
   "source": [
    "If you want to analyse a full frame of collected data, specify any filepath from that frame capture in the `FilePath` variable. \n",
    "In the following function `DataStore`, with the argument 'framecapture = True' (default), all files relating to the capture will be loaded and built into a numpy array for further analysis."
   ]
  },
  {
   "cell_type": "code",
   "execution_count": null,
   "metadata": {},
   "outputs": [],
   "source": [
    "# loads data from selected file / frame collection. Additional information about the filepaths loaded\n",
    "DataStore = SPI.load_data(filepath = FilePath, framecapture = True, printkeys = False, printfilepaths = False, printfileinfo = False)\n",
    "\n",
    "# Converts the DataStore (dictionary) to a mulitdimensional numpy array for easy of processing and slicing\n",
    "DataArray = SPI.build_array(datastore=DataStore)\n",
    "\n",
    "print(DataArray.shape)"
   ]
  },
  {
   "cell_type": "markdown",
   "metadata": {},
   "source": [
    "Calculate average across collected frames"
   ]
  },
  {
   "cell_type": "code",
   "execution_count": null,
   "metadata": {},
   "outputs": [],
   "source": [
    "AveCoarseFineData = SPI.calc_ave(datastore = DataArray, buildarray = False) # returns a list containing the coarse and fine data averaged over the collected frames\n",
    "plots.plotcapture(Coarse=AveCoarseFineData[0], Fine = AveCoarseFineData[1], plottitle = 'Averaged Data')"
   ]
  },
  {
   "cell_type": "markdown",
   "metadata": {},
   "source": [
    "Compute a histogram of the pixel array data, this is computed directly from the DataArray, not the data averaged across all collected frames.\n",
    "\n",
    "Key parameter for setting array histogram details can be entered below."
   ]
  },
  {
   "cell_type": "code",
   "execution_count": null,
   "metadata": {},
   "outputs": [],
   "source": [
    "NumSlices = 5 # number of frame sections to break the array file into  \n",
    "\n",
    "SetFineLim = False\n",
    "FineLimits = (0,128)\n",
    "\n",
    "SecondaryCoarsePlot = True\n",
    "SetCoarseLim = True\n",
    "CoarseLimits = (0,256)\n",
    "\n",
    "SavePlot = False\n",
    "SaveDirectory = 'plots'\n",
    "PlotFileName = None"
   ]
  },
  {
   "cell_type": "code",
   "execution_count": null,
   "metadata": {},
   "outputs": [],
   "source": [
    "plots.histogram_array(array = DataArray,  plotcoarse = SecondaryCoarsePlot, numslices = NumSlices, set_limfine = SetFineLim, limfine = FineLimits, set_limcoarse = SetCoarseLim, limcoarse = CoarseLimits, save_plot = SavePlot, savedir = SaveDirectory, plotname = PlotFileName, return_data = False)"
   ]
  },
  {
   "cell_type": "markdown",
   "metadata": {},
   "source": [
    "## Option 2: Load in parameter sweep data (folder of files)"
   ]
  },
  {
   "cell_type": "markdown",
   "metadata": {},
   "source": [
    "Provide folder filepath to parameter sweep data to be processed"
   ]
  },
  {
   "cell_type": "code",
   "execution_count": null,
   "metadata": {},
   "outputs": [],
   "source": [
    "FolderPath = 'examplefolder\\\\examplefilepath.npy'"
   ]
  },
  {
   "cell_type": "markdown",
   "metadata": {},
   "source": [
    "Specify below the step used during the parameter sweep (should be 1 by default); the column address and row address for the pixels you want to load the sweep data in for.\n",
    "\n",
    "NOTE: This only works for a row pixel at a time at present, will need to loop over row address from 0 to 15 to complete full array sweep data read in."
   ]
  },
  {
   "cell_type": "code",
   "execution_count": null,
   "metadata": {},
   "outputs": [],
   "source": [
    "SweepStep = 1 # this should remain as one, doing larger steps when sweeping will cause problems in the data reassignment\n",
    "PixelColAddress = 'all' # selects all pixels in row\n",
    "PixelRowAddress = 0 \n",
    "ComputeAverage = False"
   ]
  },
  {
   "cell_type": "code",
   "execution_count": null,
   "metadata": {},
   "outputs": [],
   "source": [
    "if isinstance(ComputeAverage,True):\n",
    "    OrderedParamSweeped, OrderedData, AveStore = SPI.paramsweep_loaddata(folderpath = FolderPath, ParamSweepStep = SweepStep, pixel_select = PixelColAddress, row_select = PixelRowAddress, AverageData = ComputeAverage)\n",
    "else:\n",
    "    OrderedParamSweeped, OrderedData = SPI.paramsweep_loaddata(folderpath = FolderPath, ParamSweepStep = SweepStep, pixel_select = PixelColAddress, row_select = PixelRowAddress, AverageData = ComputeAverage)"
   ]
  },
  {
   "cell_type": "markdown",
   "metadata": {},
   "source": [
    "Compute histogram of readout from selected pixel in array. This takes 'OrderedData' from above and passes it as the array argument.\n",
    "\n",
    "Key parameter for setting array histogram details can be entered below."
   ]
  },
  {
   "cell_type": "code",
   "execution_count": null,
   "metadata": {},
   "outputs": [],
   "source": [
    "PixelSelection = (8,8)\n",
    "\n",
    "PlotTitle = 'Histogram of Pixel Output'\n",
    "PrintStandardDeviation = True\n",
    "\n",
    "SetFineLim = False\n",
    "FineLimits = (0,128)\n",
    "\n",
    "SecondaryCoarsePlot = True\n",
    "SetCoarseLim = True\n",
    "CoarseLimits = (0,256)\n",
    "\n",
    "SavePlot = False\n",
    "SaveDirectory = 'plots'\n",
    "PlotFileName = None"
   ]
  },
  {
   "cell_type": "code",
   "execution_count": null,
   "metadata": {},
   "outputs": [],
   "source": [
    "plots.histogram_pixel(array = OrderedData, pixel_sel = PixelSelection, plottitle = PlotTitle, plotcoarse = SecondaryCoarsePlot, print_std = PrintStandardDeviation, set_limfine = SetFineLim , limfine = FineLimits, set_limcoarse = SetCoarseLim, limcoarse = CoarseLimits, save_plot = SavePlot, savedir = SaveDirectory, plotname = PlotFileName)"
   ]
  }
 ],
 "metadata": {
  "kernelspec": {
   "display_name": "Python 3",
   "language": "python",
   "name": "python3"
  },
  "language_info": {
   "codemirror_mode": {
    "name": "ipython",
    "version": 3
   },
   "file_extension": ".py",
   "mimetype": "text/x-python",
   "name": "python",
   "nbconvert_exporter": "python",
   "pygments_lexer": "ipython3",
   "version": "3.11.1"
  }
 },
 "nbformat": 4,
 "nbformat_minor": 2
}
